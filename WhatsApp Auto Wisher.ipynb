{
 "cells": [
  {
   "cell_type": "code",
   "execution_count": null,
   "id": "bece47c2",
   "metadata": {},
   "outputs": [
    {
     "name": "stdout",
     "output_type": "stream",
     "text": [
      "In 21 seconds web.whatsapp.com will open and after 10 seconds message will be delivered\n"
     ]
    }
   ],
   "source": [
    "from tkinter import *\n",
    "import pyautogui as pg\n",
    "import pywhatkit as wp\n",
    "import time\n",
    "window = Tk()\n",
    "window.title(\"WhatsApp Auto Wisher\")\n",
    "window.geometry(\"450x450\")\n",
    "window.configure(bg=\"#1abc9c\")\n",
    "number = StringVar()\n",
    "message = StringVar()\n",
    "def send_message(num, text):\n",
    "    num = str(num)\n",
    "    text = str(text)\n",
    "    wp.sendwhatmsg(num, text, 22,46,10)\n",
    "    pg.press(\"tab\")\n",
    "    pg.press(\"tab\")\n",
    "    pg.press(\"tab\")\n",
    "    pg.press(\"tab\")\n",
    "    pg.press(\"tab\")\n",
    "    pg.press(\"tab\")\n",
    "    pg.press(\"tab\")\n",
    "    pg.press(\"tab\")\n",
    "    pg.press(\"tab\")\n",
    "    pg.press(\"tab\")\n",
    "    pg.press(\"enter\")\n",
    "def details():\n",
    "    number = wp_number.get()\n",
    "    message = wp_message.get()\n",
    "    send_message(number, message)\n",
    "Label(window, text=\"Whatsapp Auto wisher\", font=(\"Hervetica\",\"17\",\"bold\"),bg=\"#1abc9c\").grid(row=1,column=3,padx=10,pady=6)\n",
    "num1= Label(window, text=\"Enter Number(with country code)\",bg=\"#1abc9c\")\n",
    "num1.grid(row=5,column=3,padx=10,pady=6)\n",
    "wp_number = Entry(window, textvariable=number,width=35)\n",
    "wp_number.grid(row=9,column=3,padx=10,pady=6)\n",
    "mess1 = Label(window, text=\"Enter message to be sent\",bg=\"#1abc9c\")\n",
    "mess1.grid(row=13,column=3,padx=10,pady=6)\n",
    "wp_message = Entry(window, textvariable=message, width=70)\n",
    "wp_message.grid(row=19,column=3,padx=10,pady=6)\n",
    "submit = Button(window, text=\"Send\", command=details, padx=10, pady=10, bg='#4a7abc', fg='yellow', activebackground='green', activeforeground='white').grid(row=33,column=3,padx=10,pady=6)\n",
    "exitButton = Button(window, text=\"Exit\", command=window.destroy, padx=10, pady=10, bg=\"red\", fg='black').grid(row=35,column=3,padx=10,pady=6)\n",
    "window.mainloop()"
   ]
  },
  {
   "cell_type": "code",
   "execution_count": null,
   "id": "1c859c73",
   "metadata": {},
   "outputs": [],
   "source": []
  }
 ],
 "metadata": {
  "kernelspec": {
   "display_name": "Python 3",
   "language": "python",
   "name": "python3"
  },
  "language_info": {
   "codemirror_mode": {
    "name": "ipython",
    "version": 3
   },
   "file_extension": ".py",
   "mimetype": "text/x-python",
   "name": "python",
   "nbconvert_exporter": "python",
   "pygments_lexer": "ipython3",
   "version": "3.9.5"
  }
 },
 "nbformat": 4,
 "nbformat_minor": 5
}
